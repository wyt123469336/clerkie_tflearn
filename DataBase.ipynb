{
 "cells": [
  {
   "cell_type": "code",
   "execution_count": 1,
   "metadata": {},
   "outputs": [],
   "source": [
    "import sqlite3\n"
   ]
  },
  {
   "cell_type": "code",
   "execution_count": 2,
   "metadata": {},
   "outputs": [],
   "source": [
    "# conn = sqlite3.connect('Financial_Mary.db')\n",
    "# c = conn.cursor()\n",
    "# c.execute(\"\"\"CREATE TABLE IF NOT EXISTS bank_accounts (\n",
    "#     bank_name varchar(255),\n",
    "#     account_id varchar(255),\n",
    "#     account_type varchar(255),\n",
    "#     balance int\n",
    "# )\"\"\")\n",
    "# c.execute(\"\"\"CREATE TABLE IF NOT EXISTS in_and_out (\n",
    "#     type varchar(255),\n",
    "#     source varchar(255),\n",
    "#     amount_monthly int\n",
    "# )\"\"\")\n",
    "\n",
    "# c.execute(\"INSERT INTO bank_accounts VALUES ('boa','9898','checking',9000)\")\n",
    "# c.execute(\"INSERT INTO bank_accounts VALUES ('boa','9000','saving',100000)\")\n",
    "# c.execute(\"INSERT INTO bank_accounts VALUES ('chase','9898','saving',80000)\")\n",
    "# c.execute(\"INSERT INTO bank_accounts VALUES ('','','credit',15000)\")\n",
    "# c.execute(\"INSERT INTO in_and_out VALUES ('income','salary',6000)\")\n",
    "# c.execute(\"INSERT INTO in_and_out VALUES ('spending','rent',-3000)\")\n",
    "# c.execute(\"INSERT INTO in_and_out VALUES ('spending','utilities',-1000)\")\n",
    "# c.execute(\"INSERT INTO in_and_out VALUES ('spending','shopping',-1000)\")\n",
    "# c.execute(\"INSERT INTO in_and_out VALUES ('spending','dining',-500)\")\n",
    "# conn.commit()\n",
    "\n",
    "# conn.close()"
   ]
  },
  {
   "cell_type": "code",
   "execution_count": 3,
   "metadata": {},
   "outputs": [],
   "source": [
    "# conn = sqlite3.connect('Financial_Mary.db')\n",
    "# c = conn.cursor()\n",
    "# c.execute(\"\"\"CREATE TABLE IF NOT EXISTS neighbourhoods (\n",
    "#     area varchar(255),\n",
    "#     long_term_change int,\n",
    "#     long_term_period int,\n",
    "#     short_term_change int,\n",
    "#     short_term_period int\n",
    "# )\"\"\")\n",
    "# c.execute(\"\"\"CREATE TABLE IF NOT EXISTS mortgage (\n",
    "#     over_1500 boolean,\n",
    "#     down_payment_rate int,\n",
    "#     APR_30year int\n",
    "# )\"\"\")\n",
    "\n",
    "# c.execute(\"INSERT INTO neighbourhoods VALUES ('beverly_hills',0.4,36,-0.05,4)\")\n",
    "# c.execute(\"INSERT INTO mortgage VALUES (true,0.2,0.05)\")\n",
    "# conn.commit()\n",
    "\n",
    "# conn.close()"
   ]
  },
  {
   "cell_type": "code",
   "execution_count": null,
   "metadata": {},
   "outputs": [],
   "source": []
  },
  {
   "cell_type": "code",
   "execution_count": null,
   "metadata": {},
   "outputs": [],
   "source": []
  },
  {
   "cell_type": "code",
   "execution_count": null,
   "metadata": {},
   "outputs": [],
   "source": []
  },
  {
   "cell_type": "code",
   "execution_count": null,
   "metadata": {},
   "outputs": [],
   "source": []
  },
  {
   "cell_type": "code",
   "execution_count": null,
   "metadata": {},
   "outputs": [],
   "source": []
  },
  {
   "cell_type": "code",
   "execution_count": null,
   "metadata": {},
   "outputs": [],
   "source": []
  },
  {
   "cell_type": "code",
   "execution_count": null,
   "metadata": {},
   "outputs": [],
   "source": []
  },
  {
   "cell_type": "code",
   "execution_count": null,
   "metadata": {},
   "outputs": [],
   "source": []
  },
  {
   "cell_type": "code",
   "execution_count": null,
   "metadata": {},
   "outputs": [],
   "source": []
  },
  {
   "cell_type": "code",
   "execution_count": null,
   "metadata": {},
   "outputs": [],
   "source": []
  },
  {
   "cell_type": "code",
   "execution_count": null,
   "metadata": {},
   "outputs": [],
   "source": []
  },
  {
   "cell_type": "code",
   "execution_count": null,
   "metadata": {},
   "outputs": [],
   "source": []
  },
  {
   "cell_type": "code",
   "execution_count": null,
   "metadata": {},
   "outputs": [],
   "source": []
  },
  {
   "cell_type": "code",
   "execution_count": null,
   "metadata": {},
   "outputs": [],
   "source": []
  },
  {
   "cell_type": "code",
   "execution_count": null,
   "metadata": {},
   "outputs": [],
   "source": []
  },
  {
   "cell_type": "code",
   "execution_count": null,
   "metadata": {},
   "outputs": [],
   "source": []
  },
  {
   "cell_type": "code",
   "execution_count": null,
   "metadata": {},
   "outputs": [],
   "source": []
  },
  {
   "cell_type": "code",
   "execution_count": null,
   "metadata": {},
   "outputs": [],
   "source": []
  },
  {
   "cell_type": "code",
   "execution_count": null,
   "metadata": {},
   "outputs": [],
   "source": []
  },
  {
   "cell_type": "code",
   "execution_count": null,
   "metadata": {},
   "outputs": [],
   "source": []
  },
  {
   "cell_type": "code",
   "execution_count": null,
   "metadata": {},
   "outputs": [],
   "source": []
  },
  {
   "cell_type": "code",
   "execution_count": null,
   "metadata": {},
   "outputs": [],
   "source": []
  },
  {
   "cell_type": "code",
   "execution_count": null,
   "metadata": {},
   "outputs": [],
   "source": []
  },
  {
   "cell_type": "code",
   "execution_count": null,
   "metadata": {},
   "outputs": [],
   "source": []
  },
  {
   "cell_type": "code",
   "execution_count": null,
   "metadata": {},
   "outputs": [],
   "source": []
  },
  {
   "cell_type": "code",
   "execution_count": null,
   "metadata": {},
   "outputs": [],
   "source": []
  }
 ],
 "metadata": {
  "kernelspec": {
   "display_name": "Python 3",
   "language": "python",
   "name": "python3"
  },
  "language_info": {
   "codemirror_mode": {
    "name": "ipython",
    "version": 3
   },
   "file_extension": ".py",
   "mimetype": "text/x-python",
   "name": "python",
   "nbconvert_exporter": "python",
   "pygments_lexer": "ipython3",
   "version": "3.6.5"
  }
 },
 "nbformat": 4,
 "nbformat_minor": 2
}
