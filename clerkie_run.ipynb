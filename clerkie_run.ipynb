{
 "cells": [
  {
   "cell_type": "code",
   "execution_count": 1,
   "metadata": {},
   "outputs": [
    {
     "name": "stderr",
     "output_type": "stream",
     "text": [
      "/home/yitao/anaconda3/envs/tensorflow/lib/python3.6/importlib/_bootstrap.py:219: RuntimeWarning: numpy.dtype size changed, may indicate binary incompatibility. Expected 96, got 88\n",
      "  return f(*args, **kwds)\n"
     ]
    }
   ],
   "source": [
    "import tflearn\n",
    "import tensorflow as tf\n",
    "import pickle\n",
    "import nltk\n",
    "from nltk.stem.snowball import SnowballStemmer\n",
    "from sklearn.model_selection import train_test_split\n",
    "from nltk.corpus import wordnet\n",
    "import answer_questions\n",
    "import numpy as np\n",
    "stemmer = SnowballStemmer(\"english\")"
   ]
  },
  {
   "cell_type": "code",
   "execution_count": 2,
   "metadata": {},
   "outputs": [
    {
     "name": "stdout",
     "output_type": "stream",
     "text": [
      "WARNING:tensorflow:From /home/yitao/anaconda3/envs/tensorflow/lib/python3.6/site-packages/tflearn/objectives.py:66: calling reduce_sum (from tensorflow.python.ops.math_ops) with keep_dims is deprecated and will be removed in a future version.\n",
      "Instructions for updating:\n",
      "keep_dims is deprecated, use keepdims instead\n"
     ]
    }
   ],
   "source": [
    "with open('data_label.pickle','rb') as f:\n",
    "    training = pickle.load(f)\n",
    "with open('word_token.pickle','rb') as f:\n",
    "    words = pickle.load(f)\n",
    "    \n",
    "# trainX contains the Bag of words and train_y contains the label/ category\n",
    "data = list(training[:, 0])\n",
    "label = list(training[:, 1])\n",
    "\n",
    "X_train, X_test, y_train, y_test = train_test_split(data, label, test_size=0.2)\n",
    "\n",
    "# reset underlying graph data\n",
    "tf.reset_default_graph()\n",
    "# Build neural network\n",
    "net = tflearn.input_data(shape=[None, len(X_train[0])])\n",
    "net = tflearn.fully_connected(net, 64, activation='relu')\n",
    "net = tflearn.fully_connected(net, 64, activation='relu')\n",
    "net = tflearn.fully_connected(net, len(y_train[0]), activation='softmax')\n",
    "net = tflearn.regression(net)\n",
    " \n",
    "# Define model and setup tensorboard\n",
    "model = tflearn.DNN(net, tensorboard_dir='tflearn_logs')"
   ]
  },
  {
   "cell_type": "code",
   "execution_count": 3,
   "metadata": {},
   "outputs": [
    {
     "name": "stdout",
     "output_type": "stream",
     "text": [
      "INFO:tensorflow:Restoring parameters from /home/yitao/Documents/clerkie_tenserflow/rnn.model\n"
     ]
    }
   ],
   "source": [
    "model.load('rnn.model')"
   ]
  },
  {
   "cell_type": "code",
   "execution_count": 4,
   "metadata": {},
   "outputs": [],
   "source": [
    "def get_tf_record(sentence):\n",
    "    global words\n",
    "    # tokenize the pattern\n",
    "    sentence_words = nltk.word_tokenize(sentence)\n",
    "    # stem each word\n",
    "    sentence_words = [stemmer.stem(word.lower()) for word in sentence_words]\n",
    "    # bag of words\n",
    "    bow = [0]*len(words)\n",
    "    for s in sentence_words:\n",
    "        for i, w in enumerate(words):\n",
    "            if w == s:\n",
    "                bow[i] = 1\n",
    "\n",
    "    return(np.array(bow))"
   ]
  },
  {
   "cell_type": "code",
   "execution_count": 5,
   "metadata": {},
   "outputs": [],
   "source": [
    "def add_question(user_input,class_name):\n",
    "    f = open(\"untrained.txt\", \"a\")\n",
    "    f.write(\"{},{}\\n\".format(class_name,user_input))\n",
    "    f.close()\n",
    "    print(\"Thanks! I've saved your question for future learning :D\")"
   ]
  },
  {
   "cell_type": "code",
   "execution_count": 6,
   "metadata": {},
   "outputs": [],
   "source": [
    "# capture entities in questions belong to category 1.\n",
    "# extract bank names, checking/saving, account number\n",
    "def cap_entities(user_input):\n",
    "    token = nltk.word_tokenize(user_input)\n",
    "    tagged = nltk.pos_tag(token)\n",
    "    bank_set = set(['boa','bankofamerica','chase','citi'])\n",
    "    bank_id_type = ['','','']\n",
    "    potential_bank_name = ''\n",
    "    \n",
    "    for i,x in enumerate(tagged):\n",
    "#         if x[0] == 'in':\n",
    "#             is_my = 0\n",
    "#             try:\n",
    "#                 if tagged[i+1][0] == 'my':\n",
    "#                     is_my = 1\n",
    "#                 potential_bank_name = ''.join(token[i+1+is_my:])\n",
    "#             except:\n",
    "#                 print('bank name not provided')\n",
    "        if 'NN' in x[1] and x[0] in bank_set:\n",
    "            bank_id_type[0] = x[0]\n",
    "        elif x[1] == 'CD':\n",
    "            bank_id_type[1] = x[0]\n",
    "        elif x[0] == 'checking' or x[0] == 'saving' or x[0] == 'credit':\n",
    "            bank_id_type[2] = x[0]\n",
    "\n",
    "    return bank_id_type\n",
    "\n",
    "\n",
    "# capture entities in questions belong to category 3. \n",
    "# determine if the user is asking about buying houses\n",
    "# return price only if user specified a price\n",
    "# and the question is about buying house\n",
    "def house_keyword(user_input):\n",
    "    token = nltk.word_tokenize(user_input)\n",
    "    tagged = nltk.pos_tag(token)\n",
    "    price = '0'\n",
    "    flag = False\n",
    "    similarity_threshold = 0.8\n",
    "    house_set = ['house',\n",
    "                 'condo',\n",
    "                 'pad',\n",
    "                 'crib',\n",
    "                 'apartment',\n",
    "                 'residence',\n",
    "                 'mansion'\n",
    "                ]\n",
    "    for x in tagged:\n",
    "        if x[1] == 'CD':\n",
    "            price = x[0]\n",
    "        if 'NN' in x[1]:\n",
    "            try:\n",
    "                w1 = wordnet.synset('{}.n.01'.format(x[0]))\n",
    "            except:\n",
    "                continue\n",
    "            for word in house_set:\n",
    "                w2 = wordnet.synset('{}.n.01'.format(word))\n",
    "                if w1.wup_similarity(w2) > similarity_threshold:\n",
    "                    flag = True\n",
    "                    break\n",
    "    return price if flag else '-1'"
   ]
  },
  {
   "cell_type": "code",
   "execution_count": 7,
   "metadata": {},
   "outputs": [],
   "source": [
    "def clean_up_sentence(sentence):\n",
    "    # tokenize the pattern\n",
    "    sentence_words = nltk.word_tokenize(sentence)\n",
    "    # stem each word\n",
    "    sentence_words = [stemmer.stem(word.lower()) for word in sentence_words]\n",
    "    return sentence_words"
   ]
  },
  {
   "cell_type": "code",
   "execution_count": 8,
   "metadata": {},
   "outputs": [],
   "source": [
    "def classify(text):\n",
    "    \n",
    "    classes = ['1.check balance','2.check budget','3.house affordability',\n",
    "                '4.loan', '5.mortgage FAQ', '6.Check spending']\n",
    "    ERROR_THRESHOLD = 0.65\n",
    "    result = model.predict([get_tf_record(text)])\n",
    "    prediction = np.argmax(result)\n",
    "    prob = result[0][prediction]\n",
    "    \n",
    "    if prob < ERROR_THRESHOLD:\n",
    "        print('class:','unidentified','|| prob:','N/A')\n",
    "        return 6\n",
    "    else:\n",
    "        print('class:',classes[prediction],'|| prob:',prob)\n",
    "        return prediction"
   ]
  },
  {
   "cell_type": "code",
   "execution_count": 11,
   "metadata": {},
   "outputs": [],
   "source": [
    "#is user question relatable?\n",
    "related_threshold = 0.4\n",
    "\n",
    "\n",
    "#Main function\n",
    "def ask_clerkie():\n",
    "    print(\"\\nXXXXXXXXXXXXXXXXXXXXXXXXXXXXXXXXXXXXXXXXXXXXXXXXXXXXXXXXX\")\n",
    "    user_input = input(\"what's your financial question? (type 'quit' to exit.) \\n\\n\").lower()\n",
    "    print('~~~~~~~~~~~~~~~~~~~~~~~~~~~~~~~~~~~~~~~~~~~~~~~~~~~~~~~~~')\n",
    "    if 'hello' in user_input:\n",
    "        print('Hi Yitao :D, do you have a financial question?')\n",
    "        return True\n",
    "    #quitting outer loop\n",
    "    elif user_input == 'quit':\n",
    "        print('Thanks for using clerkie :D')\n",
    "        print(\"\\nXXXXXXXXXXXXXXXXXXXXXXXXXXXXXXXXXXXXXXXXXXXXXXXXXXXXXXXXX\")\n",
    "        return False\n",
    "    \n",
    "    #if user input nothing\n",
    "    elif len(user_input) == 0:\n",
    "        print('Ask Me a question :D')\n",
    "        return True\n",
    "    user_token = clean_up_sentence(user_input)\n",
    "    related_token = 0\n",
    "    \n",
    "    #check how many tokens are related to financial questions\n",
    "    #also calculate the related percentage\n",
    "    for token in user_token:\n",
    "        if token in words:\n",
    "            related_token += 1\n",
    "    \n",
    "    #related question, and question length more than 2 words\n",
    "    if related_token/len(user_token) >= related_threshold and len(user_token) >= 2:\n",
    "        question_class = classify(user_input)\n",
    "        \n",
    "        #this means the question is not recognized by Clerkie\n",
    "        #ask user's help to label the question\n",
    "        #and save to file for future learning\n",
    "        if question_class == 6:\n",
    "            print(\"sorry, I'm still learning :p, care to classify the question for me?\")\n",
    "            print(\"0: check balance\\n1:check budget:\\n2:check affordable\\n3:other categories\")\n",
    "            class_name = input(\"0 or 1 or 2 or 3? (press enter to skip)\\n\")\n",
    "            \n",
    "            #record question and its label\n",
    "            if class_name in set(['0','1','2','3']):\n",
    "                add_question(user_input,class_name)\n",
    "                \n",
    "        \n",
    "        \n",
    "        #question that classified as category 1\n",
    "        elif question_class == 0:\n",
    "            \n",
    "            bank_id_type = cap_entities(user_input)\n",
    "            if bank_id_type[0] == 'bankofamerica':\n",
    "                bank_id_type[0] = 'boa'\n",
    "            answer_questions.get_balance(bank_id_type)\n",
    "            \n",
    "        #question that classified as category 2\n",
    "        elif question_class == 1:\n",
    "            answer_questions.get_budget()\n",
    "            \n",
    "        #question that classified as category 3\n",
    "        elif question_class == 2:\n",
    "            price = house_keyword(user_input)\n",
    "            \n",
    "            #question about buying things other than house\n",
    "            if price == '-1':\n",
    "                print(\"sorry, I can only help with house affordability :p\")\n",
    "            \n",
    "            #user didn't specify a price in the question\n",
    "            elif price == '0':\n",
    "                print(\"sorry, please provide house price so I can help :p\")\n",
    "            else:\n",
    "                answer_questions.is_affordable(price)\n",
    "        elif question_class == 3:\n",
    "            answer_questions.loan_question()\n",
    "            \n",
    "            \n",
    "        elif question_class == 4:\n",
    "            answer_questions.mortgage_FAQ()\n",
    "            \n",
    "            \n",
    "        elif question_class == 5:\n",
    "            answer_questions.spending()\n",
    "    else:\n",
    "        print(\"Please ask financial related question (more than 2 words) :p\")\n",
    "    return True\n",
    "    "
   ]
  },
  {
   "cell_type": "code",
   "execution_count": 13,
   "metadata": {},
   "outputs": [
    {
     "name": "stdout",
     "output_type": "stream",
     "text": [
      "\n",
      "XXXXXXXXXXXXXXXXXXXXXXXXXXXXXXXXXXXXXXXXXXXXXXXXXXXXXXXXX\n",
      "what's your financial question? (type 'quit' to exit.) \n",
      "\n",
      "What was my discretionary budget in January\n",
      "~~~~~~~~~~~~~~~~~~~~~~~~~~~~~~~~~~~~~~~~~~~~~~~~~~~~~~~~~\n",
      "class: 6.Check spending || prob: 0.99994504\n",
      "your monthly spending -5500\n",
      "\n",
      "XXXXXXXXXXXXXXXXXXXXXXXXXXXXXXXXXXXXXXXXXXXXXXXXXXXXXXXXX\n",
      "what's your financial question? (type 'quit' to exit.) \n",
      "\n",
      "quit\n",
      "~~~~~~~~~~~~~~~~~~~~~~~~~~~~~~~~~~~~~~~~~~~~~~~~~~~~~~~~~\n",
      "Thanks for using clerkie :D\n",
      "\n",
      "XXXXXXXXXXXXXXXXXXXXXXXXXXXXXXXXXXXXXXXXXXXXXXXXXXXXXXXXX\n"
     ]
    }
   ],
   "source": [
    "flag = True\n",
    "while flag:\n",
    "    flag = ask_clerkie()"
   ]
  },
  {
   "cell_type": "code",
   "execution_count": null,
   "metadata": {},
   "outputs": [],
   "source": []
  },
  {
   "cell_type": "code",
   "execution_count": null,
   "metadata": {},
   "outputs": [],
   "source": []
  },
  {
   "cell_type": "code",
   "execution_count": null,
   "metadata": {},
   "outputs": [],
   "source": []
  },
  {
   "cell_type": "code",
   "execution_count": null,
   "metadata": {},
   "outputs": [],
   "source": []
  }
 ],
 "metadata": {
  "kernelspec": {
   "display_name": "Python 3",
   "language": "python",
   "name": "python3"
  },
  "language_info": {
   "codemirror_mode": {
    "name": "ipython",
    "version": 3
   },
   "file_extension": ".py",
   "mimetype": "text/x-python",
   "name": "python",
   "nbconvert_exporter": "python",
   "pygments_lexer": "ipython3",
   "version": "3.6.6"
  }
 },
 "nbformat": 4,
 "nbformat_minor": 2
}
