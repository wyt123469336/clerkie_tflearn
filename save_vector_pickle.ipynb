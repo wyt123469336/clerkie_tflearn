{
 "cells": [
  {
   "cell_type": "code",
   "execution_count": 11,
   "metadata": {},
   "outputs": [],
   "source": [
    "\n",
    "import pandas as pd\n",
    "import nltk\n",
    "from nltk.stem.snowball import SnowballStemmer\n",
    "from nltk.corpus import stopwords\n",
    "from sklearn.model_selection import train_test_split\n",
    "from sklearn.metrics import accuracy_score\n",
    "import random\n",
    "import numpy as np\n",
    "import pickle"
   ]
  },
  {
   "cell_type": "code",
   "execution_count": null,
   "metadata": {},
   "outputs": [],
   "source": []
  },
  {
   "cell_type": "code",
   "execution_count": 12,
   "metadata": {},
   "outputs": [],
   "source": [
    "stemmer = SnowballStemmer(\"english\")\n",
    "df = pd.read_csv('clerkie_questions.csv', names = [\"class\",\"sentence\"])\n",
    "training_data = df.values\n",
    "data = df[['sentence']].values\n",
    "label = df[['class']].values"
   ]
  },
  {
   "cell_type": "code",
   "execution_count": 13,
   "metadata": {},
   "outputs": [],
   "source": [
    "X_train, X_test, y_train, y_test = train_test_split(data, label, test_size=0.2)"
   ]
  },
  {
   "cell_type": "code",
   "execution_count": 14,
   "metadata": {},
   "outputs": [],
   "source": [
    "#training_data = np.concatenate((y_train, X_train), axis=1)\n",
    "words = []\n",
    "classes = []\n",
    "documents = []\n",
    "ignore_words = set(stopwords.words('english'))\n",
    "ignore_words.add('?')\n",
    "for pattern in training_data:\n",
    "    # tokenize each word in the sentence\n",
    "    w = nltk.word_tokenize(pattern[1])\n",
    "    # add to words list\n",
    "    words.extend(w)\n",
    "    # add to documents in corpus\n",
    "    documents.append((w, pattern[0]))\n",
    "    # add to classes list\n",
    "    if pattern[0] not in classes:\n",
    "        classes.append(pattern[0])\n",
    "\n",
    "# stem and lower each word and remove duplicates\n",
    "words = [stemmer.stem(w.lower()) for w in words if w not in ignore_words and not w[0].isdigit()]\n",
    "words = list(set(words))\n",
    "\n",
    "# remove duplicates\n",
    "classes = list(set(classes))"
   ]
  },
  {
   "cell_type": "code",
   "execution_count": null,
   "metadata": {},
   "outputs": [],
   "source": []
  },
  {
   "cell_type": "code",
   "execution_count": 15,
   "metadata": {},
   "outputs": [],
   "source": [
    "# create our training data\n",
    "training = []\n",
    "output = []\n",
    "# create an empty array for our output\n",
    "output_empty = [0] * len(classes)\n",
    "for doc in documents:\n",
    "    # initialize our bag of words(bow) for each document in the list\n",
    "    bow = []\n",
    "    # list of tokenized words for the pattern\n",
    "    token_words = doc[0]\n",
    "    # stem each word\n",
    "    token_words = [stemmer.stem(word.lower()) for word in token_words]\n",
    "    # create our bag of words array\n",
    "    for w in words:\n",
    "        bow.append(1) if w in token_words else bow.append(0)\n",
    "\n",
    "    output_row = list(output_empty)\n",
    "    output_row[classes.index(doc[1])] = 1\n",
    "\n",
    "    # our training set will contain a the bag of words model and the output row that tells\n",
    "    # which catefory that bow belongs to.\n",
    "    training.append([bow, output_row])\n",
    "\n",
    "# shuffle our features and turn into np.array as tensorflow  takes in numpy array\n",
    "random.shuffle(training)\n",
    "training = np.array(training)\n",
    "\n",
    "\n",
    "with open('data_label.pickle','wb') as f:\n",
    "    pickle.dump(training, f)\n",
    "with open('word_token.pickle','wb') as f:\n",
    "    pickle.dump(words, f)\n",
    "\n",
    "\n"
   ]
  },
  {
   "cell_type": "code",
   "execution_count": null,
   "metadata": {},
   "outputs": [],
   "source": []
  },
  {
   "cell_type": "code",
   "execution_count": 37,
   "metadata": {},
   "outputs": [],
   "source": [
    "# # reset underlying graph data\n",
    "# tf.reset_default_graph()\n",
    "# # Build neural network\n",
    "# net = tflearn.input_data(shape=[None, len(train_x[0])])\n",
    "# net = tflearn.fully_connected(net, 8)\n",
    "# net = tflearn.fully_connected(net, 8)\n",
    "# net = tflearn.fully_connected(net, len(train_y[0]), activation='softmax')\n",
    "# net = tflearn.regression(net)\n",
    " \n",
    "# # Define model and setup tensorboard\n",
    "# model = tflearn.DNN(net, tensorboard_dir='tflearn_logs')\n",
    "# # Start training (apply gradient descent algorithm)\n",
    "# model.fit(train_x, train_y, n_epoch=1000, batch_size=8, show_metric=True)\n",
    "# model.save('model.tflearn')"
   ]
  },
  {
   "cell_type": "code",
   "execution_count": null,
   "metadata": {},
   "outputs": [],
   "source": []
  },
  {
   "cell_type": "code",
   "execution_count": 7,
   "metadata": {},
   "outputs": [],
   "source": [
    "# def get_tf_record(sentence):\n",
    "#     global words\n",
    "#     # tokenize the pattern\n",
    "#     sentence_words = nltk.word_tokenize(sentence)\n",
    "#     # stem each word\n",
    "#     sentence_words = [stemmer.stem(word.lower()) for word in sentence_words]\n",
    "#     # bag of words\n",
    "#     bow = [0]*len(words)\n",
    "#     for s in sentence_words:\n",
    "#         for i, w in enumerate(words):\n",
    "#             if w == s:\n",
    "#                 bow[i] = 1\n",
    "\n",
    "#     return(np.array(bow))"
   ]
  },
  {
   "cell_type": "code",
   "execution_count": 35,
   "metadata": {},
   "outputs": [],
   "source": [
    "# model.load('model.tflearn')\n",
    "\n",
    "# sent_1 = \"can I buy a house\"\n",
    "# print(classes[np.argmax(model.predict([get_tf_record(sent_1)]))])"
   ]
  },
  {
   "cell_type": "code",
   "execution_count": null,
   "metadata": {},
   "outputs": [],
   "source": []
  },
  {
   "cell_type": "code",
   "execution_count": null,
   "metadata": {},
   "outputs": [],
   "source": []
  },
  {
   "cell_type": "code",
   "execution_count": null,
   "metadata": {},
   "outputs": [],
   "source": []
  }
 ],
 "metadata": {
  "kernelspec": {
   "display_name": "Python 3",
   "language": "python",
   "name": "python3"
  },
  "language_info": {
   "codemirror_mode": {
    "name": "ipython",
    "version": 3
   },
   "file_extension": ".py",
   "mimetype": "text/x-python",
   "name": "python",
   "nbconvert_exporter": "python",
   "pygments_lexer": "ipython3",
   "version": "3.6.6"
  }
 },
 "nbformat": 4,
 "nbformat_minor": 2
}
